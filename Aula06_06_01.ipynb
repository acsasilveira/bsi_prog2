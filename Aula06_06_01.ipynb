{
  "cells": [
    {
      "cell_type": "markdown",
      "metadata": {
        "id": "5MqHcV1XcSpT"
      },
      "source": [
        "**Exercício 1: Estatísticas Descritivas**\n",
        "\n",
        "Crie um array de 50 números inteiros aleatórios entre 1 e 100. Calcule e exiba a média, mediana, desvio padrão, valor máximo e valor mínimo."
      ]
    },
    {
      "cell_type": "markdown",
      "metadata": {},
      "source": [
        "**Como calcular desvio padrão:**\n",
        "1. Calcule a média do conjunto de dados\n",
        "2. Para cada valor do conjunto, calcule a distância que ele se encontra do valor médio\n",
        "3. Eleve as diferenças ao quadrado (para evitar números negativos)\n",
        "4. Calcule a média dos quadrados obtidos e tire a raiz do resultado"
      ]
    },
    {
      "cell_type": "code",
      "execution_count": 4,
      "metadata": {
        "id": "_dAbsR00caGE"
      },
      "outputs": [
        {
          "name": "stdout",
          "output_type": "stream",
          "text": [
            "[13 87 88 44  3 65 69 73 66 42 40 37 48 82 78  4 29 80 44 34 33 97  5 30\n",
            " 60 90 91 40 76 73 49 79 39 94 43 27 64 11 46 36 55 86 53 55 17 99 17 68\n",
            " 68 18]\n",
            "A média é: 52.9\n",
            "A mediana é: 51.0\n",
            "O desvio padrão é: 26.79272289260649\n",
            "O valor máximo é: 99\n",
            "O valor mínimo é: 3\n"
          ]
        }
      ],
      "source": [
        "# Importação do numpy (só precisa ser feita uma única vez no documento)\n",
        "import numpy as np\n",
        "# Cria um array apartir da função de aleatório do numpy -> argumentos (minimo, maximo, tamanho)\n",
        "array = np.random.randint(1, 100, 50)\n",
        "# Para calcular a média é usada a função mean()\n",
        "media = np.mean(array)\n",
        "# Para calcular a mediana é usada a função median()\n",
        "mediana = np.median(array)\n",
        "# Para calcular o desvio padrão é usada a função std()\n",
        "desvioPadrao = np.std(array)\n",
        "# Para encontrar o valor máximo de um conjunto de dados\n",
        "maximo = np.max(array)\n",
        "# Para encontrar o valor mínimo de um conjunto de dados\n",
        "minimo = np.min(array)\n",
        "# Saídas em tela\n",
        "print(array)\n",
        "print(f\"A média é: {media}\")\n",
        "print(f\"A mediana é: {mediana}\")\n",
        "print(f\"O desvio padrão é: {desvioPadrao}\")\n",
        "print(f\"O valor máximo é: {maximo}\")\n",
        "print(f\"O valor mínimo é: {minimo}\")\n"
      ]
    },
    {
      "cell_type": "markdown",
      "metadata": {
        "id": "JeJPW98VcbG9"
      },
      "source": [
        "**Exercício 2: Operações com Matrizes**\n",
        "\n",
        "Crie duas matrizes 3x3 de números inteiros aleatórios entre 1 e 10. Realize as operações de adição, subtração, multiplicação e divisão elemento por elemento entre as duas matrizes."
      ]
    },
    {
      "cell_type": "code",
      "execution_count": 10,
      "metadata": {
        "id": "02tMKXtTcqRM"
      },
      "outputs": [
        {
          "name": "stdout",
          "output_type": "stream",
          "text": [
            "Matriz 1\n",
            "[[1 6 1]\n",
            " [1 9 3]\n",
            " [3 3 9]]\n",
            "Matriz 2\n",
            "[[4 5 1]\n",
            " [2 5 4]\n",
            " [8 5 2]]\n",
            "Soma\n",
            " [[ 5 11  2]\n",
            " [ 3 14  7]\n",
            " [11  8 11]]\n",
            "Subtração\n",
            " [[-3  1  0]\n",
            " [-1  4 -1]\n",
            " [-5 -2  7]]\n",
            "Multiplicação\n",
            " [[ 4 30  1]\n",
            " [ 2 45 12]\n",
            " [24 15 18]]\n",
            "Divisão\n",
            " [[0.25  1.2   1.   ]\n",
            " [0.5   1.8   0.75 ]\n",
            " [0.375 0.6   4.5  ]]\n"
          ]
        }
      ],
      "source": [
        "# Criação de um array multidimensional, nesse caso, o argumento \"tamanho\" é informado entre ()\n",
        "matriz1 = np.random.randint(1, 10, (3,3))\n",
        "matriz2 = np.random.randint(1, 10, (3,3))\n",
        "# Operação de soma entre as duas matrizes(arrays multimensionais) criadas\n",
        "soma = matriz1 + matriz2\n",
        "# Operação de subtração entre as duas matrizes(arrays multimensionais) criadas\n",
        "subtracao = matriz1 - matriz2\n",
        "# Operação de multiplicação entre as duas matrizes(arrays multimensionais) criadas\n",
        "multiplicacao = matriz1 * matriz2\n",
        "# Operação de divisão entre as duas matrizes(arrays multimensionais) criadas\n",
        "divisao = matriz1 / matriz2\n",
        "\n",
        "# Saídas em tela\n",
        "print(f\"Matriz 1\\n{matriz1}\")\n",
        "print(f\"Matriz 2\\n{matriz2}\")\n",
        "print(f\"Soma\\n {soma}\")\n",
        "print(f\"Subtração\\n {subtracao}\")\n",
        "print(f\"Multiplicação\\n {multiplicacao}\")\n",
        "print(f\"Divisão\\n {divisao}\")\n",
        "\n"
      ]
    },
    {
      "cell_type": "markdown",
      "metadata": {
        "id": "uDBACVC8cvek"
      },
      "source": [
        "**Exercício 3: Operações de Agregação**\n",
        "\n",
        "Crie uma matriz 4x4 de números inteiros aleatórios entre 1 e 20. Calcule e exiba a soma dos elementos para cada linha e para cada coluna."
      ]
    },
    {
      "cell_type": "code",
      "execution_count": 13,
      "metadata": {
        "id": "t7vqqYlfc3uC"
      },
      "outputs": [
        {
          "name": "stdout",
          "output_type": "stream",
          "text": [
            "Matriz\n",
            "[[ 5  8  1 13]\n",
            " [13 10  1 11]\n",
            " [18 14 13 11]\n",
            " [ 2 17 16 11]]\n",
            "Soma linhas: [27 35 56 46]\n",
            "Soma colunas: [38 49 31 46]\n"
          ]
        }
      ],
      "source": [
        "# Criação de uma matriz (array multidimensional)\n",
        "matriz = np.random.randint(1, 20, (4,4))\n",
        "# Para somar apenas os valores das linhas da matriz o valor do axis deve ser 1\n",
        "soma_linha = np.sum(matriz, axis=1)\n",
        "# Para somar apenas os valores das colunas da matriz o valor do axis deve ser 0\n",
        "soma_coluna = np.sum(matriz, axis=0)\n",
        "\n",
        "# Saídas em tela\n",
        "print(f\"Matriz\\n{matriz}\")\n",
        "print(f\"Soma linhas: {soma_linha}\")\n",
        "print(f\"Soma colunas: {soma_coluna}\")"
      ]
    },
    {
      "cell_type": "markdown",
      "metadata": {},
      "source": [
        "**TESTE**\n",
        "\n",
        "**É possível somar matriz multidimensional (3D+)?**"
      ]
    },
    {
      "cell_type": "code",
      "execution_count": 17,
      "metadata": {},
      "outputs": [
        {
          "name": "stdout",
          "output_type": "stream",
          "text": [
            "Matriz original:\n",
            " [[[8 3 4]\n",
            "  [3 8 5]\n",
            "  [5 9 2]]\n",
            "\n",
            " [[9 8 7]\n",
            "  [6 9 7]\n",
            "  [5 7 7]]\n",
            "\n",
            " [[4 3 4]\n",
            "  [2 8 2]\n",
            "  [6 3 6]]]\n",
            "Soma linhas: [[16 20 11]\n",
            " [20 24 21]\n",
            " [12 14 12]]\n",
            "Soma colunas: [[21 14 15]\n",
            " [11 25 14]\n",
            " [16 19 15]]\n",
            "Soma teste: [[15 16 16]\n",
            " [24 22 19]\n",
            " [11 12 15]]\n"
          ]
        }
      ],
      "source": [
        "teste = np.random.randint(1, 10, (3,3,3))\n",
        "soma_linhas = np.sum(teste, axis = 1)\n",
        "soma_colunas = np.sum(teste, axis=0)\n",
        "soma_teste = np.sum(teste, axis = 2)\n",
        "\n",
        "print(f\"Matriz original:\\n {teste}\")\n",
        "print(f\"Soma linhas: {soma_linhas}\")\n",
        "print(f\"Soma colunas: {soma_colunas}\")\n",
        "print(f\"Soma teste: {soma_teste}\")"
      ]
    },
    {
      "cell_type": "markdown",
      "metadata": {
        "id": "_7ELGR0tc-Zl"
      },
      "source": [
        "**Exercício 4: Filtragem de Valores**\n",
        "\n",
        "Crie um array de 30 números inteiros aleatórios entre 0 e 50. Encontre e exiba todos os valores que são maiores que 25."
      ]
    },
    {
      "cell_type": "code",
      "execution_count": 15,
      "metadata": {
        "id": "GKMCRZQrdB9P"
      },
      "outputs": [
        {
          "name": "stdout",
          "output_type": "stream",
          "text": [
            "Array completo: [13  9 14  1 10 37 48 24 30 40  0 14 22 31 29 20  3 17  9 32 41  0 26 44\n",
            " 38 31 32 37 36 13]\n",
            "Array com valores maiores que 25: [37 48 30 40 31 29 32 41 26 44 38 31 32 37 36]\n"
          ]
        }
      ],
      "source": [
        "# Criação de um array unidimensional\n",
        "array = np.random.randint(0, 50, 30)\n",
        "# Filtro dentro da própria array\n",
        "valores_maiores = array[array > 25]\n",
        "\n",
        "# Saídas em tela\n",
        "print(f\"Array completo: {array}\")\n",
        "print(f\"Array com valores maiores que 25: {valores_maiores}\")"
      ]
    },
    {
      "cell_type": "markdown",
      "metadata": {
        "id": "WfgLU2IrdKQ6"
      },
      "source": [
        "**Exercício 5: Criação e Manipulação de Arrays Multidimensionais**\n",
        "\n",
        "Crie uma matriz 3x3x3 de números inteiros aleatórios entre 1 e 10. Calcule a soma total dos elementos e a soma cumulativa."
      ]
    },
    {
      "cell_type": "markdown",
      "metadata": {},
      "source": [
        "**Soma cumulativa:**\n",
        "\n",
        "É a soma de cada elemento da array pelo seu anterior, exemplo:\n",
        "\n",
        "*[a, b, c, d]*\n",
        "\n",
        "Soma cumulativa:\n",
        "\n",
        "*[a, b+a, c+b+a, d+c+b+a]*"
      ]
    },
    {
      "cell_type": "code",
      "execution_count": 16,
      "metadata": {
        "id": "tvws8aE_dTBv"
      },
      "outputs": [
        {
          "name": "stdout",
          "output_type": "stream",
          "text": [
            "Matriz:\n",
            " [[[4 2 6]\n",
            "  [9 5 8]\n",
            "  [2 8 4]]\n",
            "\n",
            " [[9 8 3]\n",
            "  [2 8 3]\n",
            "  [1 8 1]]\n",
            "\n",
            " [[8 6 9]\n",
            "  [8 8 3]\n",
            "  [7 6 7]]]\n",
            "Soma total: 153\n",
            "Soma cumulativa: [  4   6  12  21  26  34  36  44  48  57  65  68  70  78  81  82  90  91\n",
            "  99 105 114 122 130 133 140 146 153]\n"
          ]
        }
      ],
      "source": [
        "# Criação de uma array multidimensional (3D)\n",
        "matrizmulti = np.random.randint(1, 10, (3,3,3))\n",
        "# Para calcular o soma total de uma matriz é utilizada a função sum()\n",
        "soma_total = np.sum(matrizmulti)\n",
        "# Para calcular o soma cumulativa de uma matriz é utilizada a função cumsum()\n",
        "soma_cumulativa = np.cumsum(matrizmulti)\n",
        "\n",
        "# Saídas em tela\n",
        "print(f\"Matriz:\\n {matrizmulti}\")\n",
        "print(f\"Soma total: {soma_total}\")\n",
        "print(f\"Soma cumulativa: {soma_cumulativa}\")"
      ]
    }
  ],
  "metadata": {
    "colab": {
      "provenance": []
    },
    "kernelspec": {
      "display_name": "base",
      "language": "python",
      "name": "python3"
    },
    "language_info": {
      "codemirror_mode": {
        "name": "ipython",
        "version": 3
      },
      "file_extension": ".py",
      "mimetype": "text/x-python",
      "name": "python",
      "nbconvert_exporter": "python",
      "pygments_lexer": "ipython3",
      "version": "3.12.7"
    }
  },
  "nbformat": 4,
  "nbformat_minor": 0
}
