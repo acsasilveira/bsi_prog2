{
  "cells": [
    {
      "cell_type": "markdown",
      "metadata": {
        "id": "lPnGgjB-huuv"
      },
      "source": [
        "# 1ª Prova de Laboratório de Programação de Computadores II\n",
        "\n",
        "**Instruções:**\n",
        "* Consulta apenas ao material impresso\n",
        "* Ao final da prova salvar o arquivo com seu nome completo separando o sobrenome com underscore. Exemplo: Eduardo_Gomes_Carvalho.ipynb\n",
        "* O professor não está disponível para tirar dúvidas no momento da prova."
      ]
    },
    {
      "cell_type": "markdown",
      "metadata": {
        "id": "EuQx8_8IiUnL"
      },
      "source": [
        "**1ª Questão (6 pontos)**\n",
        "\n",
        "Implemente um programa em Python que execute o seguinte procedimento:\n",
        "\n",
        "\n",
        "1.   Crie uma lista P1 e permita que o usuário insira números inteiros para preenchê-la. O programa deve solicitar ao usuário que insira um número inteiro repetidamente até que o valor 0 seja digitado, o que encerrará a inserção e não deve ser incluído na lista P1. Depois crie uma lista P2 vazia. **(3 pontos)**\n",
        "2.   Implemente a função TrocaLista(P1, P2) que transfere todos os elementos da lista P1 para uma nova lista P2 em ordem inversa. Utilize um laço while dentro da função para remover elementos de P1 e adicioná-los a P2. **(3 pontos)**"
      ]
    },
    {
      "cell_type": "code",
      "execution_count": 47,
      "metadata": {
        "id": "TaJfncrRij0z"
      },
      "outputs": [
        {
          "name": "stdout",
          "output_type": "stream",
          "text": [
            "Para interromper a execução do programa, digite 0!\n",
            "Para interromper a execução do programa, digite 0!\n",
            "Para interromper a execução do programa, digite 0!\n",
            "Para interromper a execução do programa, digite 0!\n",
            "Lista1 :[]\n",
            "Lista2 :[41, 87, 69, 25]\n"
          ]
        }
      ],
      "source": [
        "# Criação das Listas\n",
        "P1 = []\n",
        "P2 = []\n",
        "\n",
        "# Parte 1 - Lista P1\n",
        "n = int(input(\"Digite um número: \"))\n",
        "while (n!= 0):\n",
        "    P1.append(n)\n",
        "    print(\"Para interromper a execução do programa, digite 0!\")\n",
        "    n = int(input(\"Digite um número: \"))\n",
        " \n",
        "# Parte 2 - TrocaLista\n",
        "def TrocaLista(l1,l2):\n",
        "    while(l1 != []):\n",
        "        l2.append(l1.pop())\n",
        "\n",
        "TrocaLista(P1,P2)\n"
      ]
    },
    {
      "cell_type": "markdown",
      "metadata": {
        "id": "VrwS2Di2mcu0"
      },
      "source": [
        "**2ª Questão (6 pontos)**\n",
        "\n",
        "Implemente um programa em Python que transforme a lista L=[\"Pedro, 8\", \"João, 9\", \"Paulo, 0\", \"Eduardo, 10\", \"Lázaro, 10\"], que possui o nome do aluno e sua nota em uma prova, separados por vírgula, em um dicionário. Lembre-se que a nota no dicionário deve ser do tipo inteira."
      ]
    },
    {
      "cell_type": "code",
      "execution_count": 49,
      "metadata": {
        "id": "OENbu0L2m7Z_"
      },
      "outputs": [
        {
          "name": "stdout",
          "output_type": "stream",
          "text": [
            "{'Pedro': ' 8', 'João': ' 9', 'Paulo': ' 0', 'Eduardo': ' 10', 'Lázaro': ' 10'}\n"
          ]
        }
      ],
      "source": [
        "L=[\"Pedro, 8\", \"João, 9\", \"Paulo, 0\", \"Eduardo, 10\", \"Lázaro, 10\"]\n",
        "\n",
        "\n",
        "def listaParaDicionario(lista):\n",
        "    dic = dict()\n",
        "    for i in lista:\n",
        "        alunoNota = i.split(',')\n",
        "        aluno = alunoNota[0]\n",
        "        nota = alunoNota[1]\n",
        "        dic[aluno] = nota\n",
        "    return dic\n",
        "\n",
        "print(listaParaDicionario(L))\n",
        "        \n"
      ]
    },
    {
      "cell_type": "markdown",
      "metadata": {
        "id": "uAEV-dXooGN3"
      },
      "source": [
        "**3ª Questão (8 pontos)**\n",
        "\n",
        "Implemente a classe para o programa abaixo, considerando que :\n",
        "* abastecerPorValor( ) – verificar se o usuário inseriu um valor menor ou igual a zero e apresentar uma mensagem \"Valor inválido para abastecimento. Imprimir o a litragem e o valor a pagar utilizando 2 casas decimais. **(3 pontos)**\n",
        "* abastecerPorLitro( ) – verificar se o usuário inseriu um valor menor ou igual a zero e apresentar uma mensagem \"Valor inválido para abastecimento. Imprimir o a litragem e o valor a pagar utilizando 2 casas decimais. **(3 pontos)**\n",
        "* a correta criação da classe e do construtor será avaliada em 2 pontos\n",
        "\n",
        "Exemplo de saída:\n",
        "\n",
        "Abastecer por valor (V) ou por litro (L)? L\n",
        "\n",
        "Digite a quantidade de litros desejada: 10\n",
        "\n",
        "Valor a ser pago: R$55.00 por 10.00 litros.\n"
      ]
    },
    {
      "cell_type": "code",
      "execution_count": 31,
      "metadata": {
        "id": "LMZ2aQttooMB"
      },
      "outputs": [
        {
          "name": "stdout",
          "output_type": "stream",
          "text": [
            "Valor a ser pago: R$55.00 para 10.00 L\n"
          ]
        }
      ],
      "source": [
        "# Criar a classe aqui\n",
        "class bombaCombustivel():\n",
        "\n",
        "    # Método Construtor que cria os primeiros atributos\n",
        "    def __init__(self, qualidade, preco, litros):\n",
        "        self.tipo = qualidade\n",
        "        self.preco = preco\n",
        "        self.litros = litros\n",
        "\n",
        "    # Método que calcula quantos litros o carro receberá pelo preço fornecido\n",
        "    def abastecerPorValor(self, valor):\n",
        "        if valor <= 0:\n",
        "            print(\"Valor inválido para o abastecimento!\")\n",
        "        else:\n",
        "            l = valor/self.preco\n",
        "            print(f\"Serão {l:.2f} L com R${valor:.2f}\")\n",
        "    \n",
        "    # Método que calcula qual o preço da quantidade de litros pedida\n",
        "    def abastecerPorLitro(self, litros):\n",
        "        if litros <= 0:\n",
        "            print(\"Valor inválido para o abastecimento!\")\n",
        "        else:\n",
        "            valor = litros*self.preco\n",
        "            print(f\"Valor a ser pago: R${valor:.2f} para {litros:.2f} L\")\n",
        "\n",
        "# Exemplo de uso\n",
        "abastecimento = bombaCombustivel(\"Gasolina\", 5.50, 1000)\n",
        "\n",
        "opcao = input(\"Abastecer por valor (V) ou por litro (L)? \").upper()\n",
        "\n",
        "if opcao == \"V\":\n",
        "    valor = float(input(\"Digite o valor a ser abastecido: \"))\n",
        "    abastecimento.abastecerPorValor(valor)\n",
        "elif opcao == \"L\":\n",
        "    litros = float(input(\"Digite a quantidade de litros desejada: \"))\n",
        "    abastecimento.abastecerPorLitro(litros)\n",
        "else:\n",
        "    print(\"Opção inválida.\")"
      ]
    },
    {
      "cell_type": "markdown",
      "metadata": {
        "id": "EkmM_Krer6Qo"
      },
      "source": [
        "**4ª Questão (5 pontos)**\n",
        "\n",
        "Corrija o programa abaixo, de forma que ele execute corretamente. Ao final ele deve imprimir:\n",
        "\n",
        "Total da compra: 6.0"
      ]
    },
    {
      "cell_type": "code",
      "execution_count": 30,
      "metadata": {
        "id": "9UZg2KJ0wxil"
      },
      "outputs": [
        {
          "name": "stdout",
          "output_type": "stream",
          "text": [
            "Total da compra: 6.0\n"
          ]
        }
      ],
      "source": [
        "class CarrinhoCompras:\n",
        "    def __init__(self):\n",
        "        self.itens = []\n",
        "\n",
        "    def adicionar_item(self, nome, quantidade, preco_unitario):\n",
        "        if quantidade <= 0:\n",
        "            print(\"Erro: A quantidade deve ser positiva.\")\n",
        "            return\n",
        "        self.itens.append({'nome': nome, 'quantidade': quantidade, 'preco_unitario': preco_unitario})\n",
        "\n",
        "    def calcular_total(self):\n",
        "        total = 0\n",
        "        for item in self.itens:\n",
        "            total += item['quantidade'] * item['preco_unitario']\n",
        "        return total\n",
        "\n",
        "    def __del__(self):\n",
        "        print(\"Carrinho de compras foi destruído.\")\n",
        "\n",
        "carrinho = CarrinhoCompras()\n",
        "carrinho.adicionar_item(\"Maçã\", 3, 1.5)\n",
        "carrinho.adicionar_item(\"Banana\", 2, 0.75)\n",
        "\n",
        "total = carrinho.calcular_total()\n",
        "print(\"Total da compra:\", total)\n"
      ]
    }
  ],
  "metadata": {
    "colab": {
      "provenance": []
    },
    "kernelspec": {
      "display_name": "Python 3",
      "name": "python3"
    },
    "language_info": {
      "codemirror_mode": {
        "name": "ipython",
        "version": 3
      },
      "file_extension": ".py",
      "mimetype": "text/x-python",
      "name": "python",
      "nbconvert_exporter": "python",
      "pygments_lexer": "ipython3",
      "version": "3.10.12"
    }
  },
  "nbformat": 4,
  "nbformat_minor": 0
}
