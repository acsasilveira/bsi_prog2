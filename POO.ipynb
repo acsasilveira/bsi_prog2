{
  "cells": [
    {
      "cell_type": "markdown",
      "metadata": {
        "id": "ZJIeJIsYL8tN"
      },
      "source": [
        "# **Introdução à Programação Orientada a Objetos (POO)**\n",
        "\n",
        "A Programação Orientada a Objetos (POO) é um paradigma de programação que organiza o código em objetos, que são instâncias de classes. Em vez de pensar em termos de funções e variáveis separadas (como em C), na POO você pensa em termos de entidades que possuem atributos (dados) e métodos (funções associadas).\n",
        "\n",
        "Nesse momento inicial você precisa lidar com os seguintes conceitos principais:\n",
        "\n",
        "*   Classe: uma definição ou modelo de um objeto.\n",
        "*   Objeto: uma instância de uma classe.\n",
        "*   Métodos: funções definidas dentro de uma classe.\n",
        "*   Atributos: variáveis que pertencem a um objeto.\n",
        "\n",
        "Para criar uma classe em Python, é preciso utilizar a palavra-chave class, seguida do nome da classe e dois pontos:\n"
      ]
    },
    {
      "cell_type": "code",
      "execution_count": null,
      "metadata": {
        "id": "Lbqhm9ORMbFd"
      },
      "outputs": [],
      "source": [
        "# Definindo uma classe simples\n",
        "class Pessoa:\n",
        "    def __init__(self, nome, idade):\n",
        "        self.nome = nome\n",
        "        self.idade = idade\n",
        "\n",
        "    def exibir_info(self):\n",
        "        print(f'Nome: {self.nome}, Idade: {self.idade}')\n",
        "\n",
        "# Criando uma instância da classe\n",
        "pessoa1 = Pessoa('Ana', 25)\n",
        "pessoa1.exibir_info()  # Saída: Nome: Ana, Idade: 25\n"
      ]
    },
    {
      "cell_type": "markdown",
      "metadata": {
        "id": "195guif7NByD"
      },
      "source": [
        "Para instanciar uma classe, usa-se a mesma sintaxe de invocar uma função. Apenas finja que o objeto classe do exemplo é uma função sem parâmetros, que devolve uma nova instância da classe.\n",
        "A operação de instanciação (“invocar” um objeto classe) cria um objeto vazio. Muitas classes preferem criar novos objetos com um estado inicial predeterminado. Para tanto, a classe pode definir um método especial chamado _ _ init _ _\n",
        "o self é uma palavra reservada que se refere ao objeto atual e é utilizada para acessar os atributos e métodos de uma classe. O self é fundamental na programação orientada a objetos do Python. Quando um método é chamado em um objeto, o Python passa o próprio objeto como o primeiro argumento para o método, que é então atribuído ao parâmetro \"self\". O self é sempre o primeiro argumento a ser passado em um construtor e nos métodos de instâncias"
      ]
    },
    {
      "cell_type": "markdown",
      "metadata": {
        "id": "pdARdTyWNjT9"
      },
      "source": [
        "**Exercício 1**\n",
        "\n",
        "Vamos criar uma classe TV que representará um aparelho de televisão com atributos como canal e volume e métodos para alterar esses atributos (mudar_canal e ajustar_volume)."
      ]
    },
    {
      "cell_type": "code",
      "execution_count": 8,
      "metadata": {
        "id": "sX1HJMIOOGOt"
      },
      "outputs": [
        {
          "name": "stdout",
          "output_type": "stream",
          "text": [
            "A televisão está ligada no canal 126 e está com o volume 25\n",
            "A televisão está ligada no canal 5 e está com o volume 25\n",
            "A televisão está ligada no canal 5 e está com o volume 15\n"
          ]
        }
      ],
      "source": [
        "# Definindo uma classe TV, faça abaixo o código\n",
        "class TV:\n",
        "    def __init__(self):\n",
        "        self.canal = 126\n",
        "        self.volume = 25\n",
        "    \n",
        "    def mudar_canal(self, canal):\n",
        "        self.canal = canal\n",
        "\n",
        "    def ajustar_volume(self, vol):\n",
        "        self.volume = vol\n",
        "\n",
        "    def get_canal(self):\n",
        "        return self.canal\n",
        "\n",
        "    def get_volume(self):\n",
        "        return self.volume\n",
        "\n",
        "# Criando uma instância da classe\n",
        "tv1 = TV()\n",
        "print(f\"A televisão está ligada no canal {tv1.get_canal()} e está com o volume {tv1.get_volume()}\")\n",
        "tv1.mudar_canal(5)\n",
        "print(f\"A televisão está ligada no canal {tv1.get_canal()} e está com o volume {tv1.get_volume()}\")\n",
        "tv1.ajustar_volume(15)\n",
        "print(f\"A televisão está ligada no canal {tv1.get_canal()} e está com o volume {tv1.get_volume()}\")\n"
      ]
    },
    {
      "cell_type": "markdown",
      "metadata": {
        "id": "CGYb7GqwOU7j"
      },
      "source": [
        "**Construtores e Destruidores**\n",
        "O método __init__ é o construtor da classe, chamado quando uma instância é criada. O método __del__ é um destrutor chamado quando o objeto é destruído (automaticamente ou com del)."
      ]
    },
    {
      "cell_type": "code",
      "execution_count": 3,
      "metadata": {
        "id": "-doOojH1ObgA"
      },
      "outputs": [
        {
          "name": "stdout",
          "output_type": "stream",
          "text": [
            "Objeto criado com valor: 10\n",
            "Objeto com valor 10 foi destruído\n"
          ]
        }
      ],
      "source": [
        "class Exemplo:\n",
        "    def __init__(self, valor):\n",
        "        self.valor = valor\n",
        "        print(f'Objeto criado com valor: {self.valor}')\n",
        "\n",
        "    def __del__(self):\n",
        "        print(f'Objeto com valor {self.valor} foi destruído')\n",
        "\n",
        "# Criando e destruindo um objeto\n",
        "obj = Exemplo(10)\n",
        "del obj  # Chama o método __del__\n"
      ]
    },
    {
      "cell_type": "markdown",
      "metadata": {
        "id": "8bLtxfgjOq5e"
      },
      "source": [
        "**Exercício 2**\n",
        "\n",
        "Adicione um método __del__ à classe TV que imprime uma mensagem indicando que a TV foi desligada. Crie uma instância e depois a delete para testar."
      ]
    },
    {
      "cell_type": "code",
      "execution_count": 4,
      "metadata": {
        "id": "N-SrlJGcO4EO"
      },
      "outputs": [
        {
          "name": "stdout",
          "output_type": "stream",
          "text": [
            "TV ligada.\n",
            "Objeto destruído\n"
          ]
        }
      ],
      "source": [
        "class TV:\n",
        "    def __init__(self, canal=1, volume=10):\n",
        "        self.canal = canal\n",
        "        self.volume = volume\n",
        "        print('TV ligada.')\n",
        "    \n",
        "    def __del__(self):\n",
        "        print('Objeto destruído')\n",
        "\n",
        "#Destrutor\n",
        "\n",
        "# Criando e destruindo uma instância\n",
        "tv2 = TV(3, 20)\n",
        "del tv2  # Explicitamente chamando o destrutor\n"
      ]
    },
    {
      "cell_type": "markdown",
      "metadata": {
        "id": "mcwuaBcaPFaE"
      },
      "source": [
        "**Instanciando Objetos e Trabalhando com Vários Exemplares**\n",
        "\n",
        "É comum criar e manipular múltiplas instâncias de uma classe. Python permite variáveis de instância (específicas de um objeto) e variáveis de classe (compartilhadas por todas as instâncias)."
      ]
    },
    {
      "cell_type": "code",
      "execution_count": null,
      "metadata": {
        "id": "vQg7GEwfPOa2"
      },
      "outputs": [],
      "source": [
        "class Carro:\n",
        "    contador = 0  # Variável de classe para contar instâncias\n",
        "\n",
        "    def __init__(self, marca, modelo):\n",
        "        self.marca = marca\n",
        "        self.modelo = modelo\n",
        "        Carro.contador += 1\n",
        "\n",
        "    def detalhes(self):\n",
        "        print(f'Carro: {self.marca} {self.modelo}')\n",
        "\n",
        "# Criando instâncias\n",
        "carro1 = Carro('Toyota', 'Corolla')\n",
        "carro2 = Carro('Honda', 'Civic')\n",
        "\n",
        "print(f'Total de carros: {Carro.contador}')  # Saída: Total de carros: 2\n",
        "carro1.detalhes()\n",
        "carro2.detalhes()\n"
      ]
    },
    {
      "cell_type": "markdown",
      "metadata": {
        "id": "7uTcQ1FePiuf"
      },
      "source": [
        "**Exercício 3**\n",
        "\n",
        "Adicione os atributos tamanho e marca à classe Televisao. Crie dois objetos Televisao e atribua tamanhos e marcas diferentes. Depois, imprima o valor desses atributos de forma a confirma a independência dos valores de cada instância (objeto).\n"
      ]
    },
    {
      "cell_type": "code",
      "execution_count": 2,
      "metadata": {
        "id": "vcC6ttD6PuT5"
      },
      "outputs": [
        {
          "name": "stdout",
          "output_type": "stream",
          "text": [
            "Cozinha está ligada no canal 126 e está com o volume 20\n",
            "Tamanho: 55; Marca: LG\n",
            "Sala está ligada no canal 7 e está com o volume 9\n",
            "Tamanho: 60; Marca: Sony\n",
            "Quarto está ligada no canal 126 e está com o volume 25\n",
            "Tamanho: 40; Marca: LG\n"
          ]
        }
      ],
      "source": [
        "# Definindo uma classe TV, faça abaixo o código\n",
        "class Televisao:\n",
        "    def __init__(self, local, canal=126, volume=25, tamanho=40, marca='LG'):\n",
        "        self.local = local\n",
        "        self.canal = canal\n",
        "        self.volume = volume\n",
        "        self.tamanho = tamanho\n",
        "        self.marca = marca\n",
        "\n",
        "    def get_canal(self):\n",
        "        return self.canal\n",
        "\n",
        "    def get_volume(self):\n",
        "        return self.volume\n",
        "    \n",
        "    def get_tamanho(self):\n",
        "        return self.tamanho\n",
        "    \n",
        "    def get_marca(self):\n",
        "        return self.marca\n",
        "    \n",
        "    def set_canal(self, novo_canal):\n",
        "        self.canal = novo_canal\n",
        "\n",
        "    def set_volume(self, novo_volume):\n",
        "        self.volume = novo_volume\n",
        "    \n",
        "    def set_tamanho(self, novo_tamanho):\n",
        "        self.tamanho = novo_tamanho\n",
        "\n",
        "    def set_marca(self, nova_marca):\n",
        "        self.marca = nova_marca\n",
        "\n",
        "\n",
        "# Programa utilizando a classe criada\n",
        "Cozinha = Televisao('Cozinha', 126, 20, 55)\n",
        "Sala = Televisao('Sala', 7, 9, 60, 'Sony')\n",
        "Quarto = Televisao('Quarto')\n",
        "lista = [Cozinha, Sala, Quarto]\n",
        "for i in lista:\n",
        "    print(f\"{i.local} está ligada no canal {i.get_canal()} e está com o volume {i.get_volume()}\")\n",
        "    print(f\"Tamanho: {i.get_tamanho()}; Marca: {i.get_marca()}\")"
      ]
    },
    {
      "cell_type": "markdown",
      "metadata": {
        "id": "YGi44IefP-Qt"
      },
      "source": [
        "**Exercício 4**\n",
        "\n",
        "Modifique a classe Televisao de forma que, se pedirmos para mudar o canal para baixo, além do mínimo, ela vá para o canal máximo. Se mudarmos para cima, além do canal máximo, que volte ao canal mínimo.\n",
        "\n"
      ]
    },
    {
      "cell_type": "code",
      "execution_count": null,
      "metadata": {
        "id": "SzzqDQtWQI1J"
      },
      "outputs": [],
      "source": [
        "class Televisao:\n",
        "  def __init__(self, min, max):\n",
        "    self.ligada = False\n",
        "    self.canal = 2\n",
        "    self.cmin = min\n",
        "    self.cmax = max\n",
        "\n",
        "  def muda_canal_para_baixo(self):\n",
        "    if(self.canal-1>=self.cmin):\n",
        "      self.canal-=1\n",
        "\n",
        "  def muda_canal_para_cima(self):\n",
        "    if(self.canal+1<=self.cmax):\n",
        "      self.canal+=1\n",
        "\n",
        "tv = Televisao(1,99)\n",
        "for x in range (0, 120):\n",
        "  tv.muda_canal_para_cima()\n",
        "print(tv.canal)\n",
        "\n",
        "for x in range (0, 120):\n",
        "  tv.muda_canal_para_baixo()\n",
        "print(tv.canal)\n"
      ]
    },
    {
      "cell_type": "markdown",
      "metadata": {
        "id": "-YUvJWTSQr90"
      },
      "source": [
        "**Exercício 5**\n",
        "\n",
        "Utilizando o que aprendemos com funções, modifique o construtor da classe Televisao de forma min e max sejam parâmetros opcionais, onde min vale 2 e max vale 14, caso outro valor não seja passado.\n"
      ]
    },
    {
      "cell_type": "code",
      "execution_count": null,
      "metadata": {
        "id": "LuoVnb87QvYB"
      },
      "outputs": [],
      "source": []
    },
    {
      "cell_type": "markdown",
      "metadata": {
        "id": "NOMmYIZcQ7Nd"
      },
      "source": [
        "**Exercício 6**\n",
        "Crie uma classe chamada Calculadora que possua um construtor que aceita dois argumentos não obrigatórios: x e y (se não fornecidos assumirão o valor padrão de zero). Esses argumentos representarão números que podem ser usados em operações matemáticas. A classe deve ter métodos para realizar as seguintes operações:\n",
        "* Soma: Um método chamado soma que retorna a soma de x e y.\n",
        "* Subtração: Um método chamado subtracao que retorna a subtração de x por y.\n",
        "* Multiplicação: Um método chamado multiplicacao que retorna a multiplicação de x por y.\n",
        "* Divisão: Um método chamado divisao que retorna a divisão de x por y. Certifique-se de verificar se y é zero e, se for, retorne uma mensagem de erro adequada.\n",
        "\n"
      ]
    },
    {
      "cell_type": "code",
      "execution_count": null,
      "metadata": {
        "id": "R2WoACalRHOT"
      },
      "outputs": [],
      "source": [
        "# Criando uma instância da Calculadora com argumentos não obrigatórios\n",
        "calc = Calculadora(10, 5)\n",
        "\n",
        "# Imprimindo os valores de x e y\n",
        "calc.imprimir_valores()\n",
        "\n",
        "# Realizando operações\n",
        "print(\"Soma:\", calc.soma())\n",
        "print(\"Subtração:\", calc.subtracao())\n",
        "print(\"Multiplicação:\", calc.multiplicacao())\n",
        "print(\"Divisão:\", calc.divisao())\n"
      ]
    }
  ],
  "metadata": {
    "colab": {
      "provenance": []
    },
    "kernelspec": {
      "display_name": "Python 3",
      "name": "python3"
    },
    "language_info": {
      "codemirror_mode": {
        "name": "ipython",
        "version": 3
      },
      "file_extension": ".py",
      "mimetype": "text/x-python",
      "name": "python",
      "nbconvert_exporter": "python",
      "pygments_lexer": "ipython3",
      "version": "3.10.12"
    }
  },
  "nbformat": 4,
  "nbformat_minor": 0
}
