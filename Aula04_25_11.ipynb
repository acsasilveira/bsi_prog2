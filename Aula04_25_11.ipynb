{
  "cells": [
    {
      "cell_type": "markdown",
      "metadata": {
        "id": "Hw80tCcWa6wM"
      },
      "source": [
        "# Herança e Polimorfismo em Python\n",
        "\n",
        "Na Programação Orientada a Objetos (POO), herança é um conceito fundamental que permite a criação de novas classes a partir de outras classes já existentes:\n",
        "\n",
        "* A classe que tem seus membros herdados é chamada classe base.\n",
        "* A classe que herda os membros é chamada classe derivada.\n",
        "\n",
        "A herança permite que a classe derivada tenha acesso aos atributos e métodos da classe base. Assim, a classe derivada possui imediatamente todas as funcionalidades da classe base.\n",
        "\n",
        "A herança tem vários benefícios, como: Deixar o código mais limpo, Promover a reusabilidade de código, Facilitar a manutenção, Apoiar a criação de uma hierarquia lógica entre objetos."
      ]
    },
    {
      "cell_type": "code",
      "execution_count": 2,
      "metadata": {
        "id": "P4qDX9o-beBr"
      },
      "outputs": [],
      "source": [
        "class ClasseBase:\n",
        "    def __init__(self, atributo_base):\n",
        "        self.atributo_base = atributo_base\n",
        "\n",
        "    def metodo_base(self):\n",
        "        pass\n",
        "\n",
        "class ClasseDerivada(ClasseBase):\n",
        "    def __init__(self, atributo_base, atributo_derivado):\n",
        "        super().__init__(atributo_base)\n",
        "        self.atributo_derivado = atributo_derivado\n",
        "\n",
        "    def metodo_derivado(self):\n",
        "        pass\n",
        "\n"
      ]
    },
    {
      "cell_type": "markdown",
      "metadata": {
        "id": "UKqFo13_bj6E"
      },
      "source": [
        "A palavra-chave \"pass\" em Python é uma operação nula que não faz nada quando executada. É usada como um espaço reservado no código Python quando é necessário um statement, mas não se deseja que nenhuma ação seja realizada"
      ]
    },
    {
      "cell_type": "code",
      "execution_count": 1,
      "metadata": {
        "colab": {
          "base_uri": "https://localhost:8080/"
        },
        "id": "PcOBlkKhbxJE",
        "outputId": "eb3187d7-be36-4304-a940-43f3a916f735"
      },
      "outputs": [
        {
          "name": "stdout",
          "output_type": "stream",
          "text": [
            "Au!\n",
            "Miau!\n",
            "Au!\n",
            "Miau!\n"
          ]
        }
      ],
      "source": [
        "class Animal:\n",
        "    def __init__(self, nome):\n",
        "        self.nome = nome\n",
        "\n",
        "    def fazer_som(self):\n",
        "        pass\n",
        "\n",
        "class Cachorro(Animal):\n",
        "    def fazer_som(self):\n",
        "        return \"Au!\"\n",
        "\n",
        "class Gato(Animal):\n",
        "    def fazer_som(self):\n",
        "        return \"Miau!\"\n",
        "\n",
        "dog = Cachorro(\"Rex\")\n",
        "cat = Gato(\"Whiskers\")\n",
        "\n",
        "print(dog.fazer_som())  # Saída: Au!\n",
        "print(cat.fazer_som())  # Saída: Miau!\n",
        "\n",
        "dog = Cachorro(\"Rex\")\n",
        "cat = Gato(\"Eduardo\")\n",
        "\n",
        "print(dog.fazer_som())  # Saída: Au!\n",
        "print(cat.fazer_som())  # Saída: Miau!\n",
        "\n"
      ]
    },
    {
      "cell_type": "markdown",
      "metadata": {
        "id": "DQliK5mpcCtQ"
      },
      "source": [
        "**Exercício**\n",
        "\n",
        "Crie uma hierarquia de classes para modelar figuras geométricas. A classe base deve ser chamada de FiguraGeometrica e deve conter um método calcular_area() que será implementado nas classes derivadas. Crie duas subclasses, Retangulo e Circulo, que herdam da classe FiguraGeometrica e implementam o método calcular_area() para calcular a área do retângulo e do círculo, respectivamente.\n"
      ]
    },
    {
      "cell_type": "code",
      "execution_count": 5,
      "metadata": {
        "id": "ywBDl72QcMMp"
      },
      "outputs": [
        {
          "name": "stdout",
          "output_type": "stream",
          "text": [
            "Bem vindo(a) ao sistema de cálculo de áreas!\n",
            "R - Retângulo\n",
            "C - Círculo\n",
            "A área do círculo de raio 1 é 3.14 cm²\n"
          ]
        }
      ],
      "source": [
        "import math\n",
        "\n",
        "class FiguraGeometrica:\n",
        "    \n",
        "    def __init__(self):\n",
        "        pass\n",
        "\n",
        "    def calcular_area(self):\n",
        "        pass\n",
        "\n",
        "class Retangulo(FiguraGeometrica):\n",
        "    \n",
        "    def __init__(self, base, altura):\n",
        "        self.base = base\n",
        "        self.altura = altura\n",
        "\n",
        "    def calcular_area(self):\n",
        "        return self.base*self.altura\n",
        "    \n",
        "class Circulo(FiguraGeometrica):\n",
        "    \n",
        "    def __init__(self, raio):\n",
        "        self.raio = raio\n",
        "\n",
        "    def calcular_area(self):\n",
        "        return (math.pi)*self.raio**2\n",
        "    \n",
        "\n",
        "# Instância das classes\n",
        "\n",
        "print(\"Bem vindo(a) ao sistema de cálculo de áreas!\")\n",
        "print(\"R - Retângulo\")\n",
        "print(\"C - Círculo\")\n",
        "tipo = input(\"Informe a letra correspondente ao tipo desejado: \")\n",
        "tipo = tipo.upper()\n",
        "\n",
        "if (tipo == 'C'):\n",
        "    raio = int(input(\"Informe o tamanho do raio em cm: \"))\n",
        "    circ = Circulo(raio)\n",
        "    print(f\"A área do círculo de raio {raio} é {circ.calcular_area():.2f} cm²\")\n",
        "elif (tipo == 'R'):\n",
        "    b = int(input(\"Informe o tamanho da base em cm: \"))\n",
        "    h = int(input(\"Informe o tamanho da altura em cm: \"))\n",
        "    ret = Retangulo(b,h)\n",
        "    print(f\"A área do retângulo de base {b} e altura {h} é {ret.calcular_area()}cm²\")\n"
      ]
    },
    {
      "cell_type": "markdown",
      "metadata": {
        "id": "xVnfqAIDcNIJ"
      },
      "source": [
        "**Herança Múltipla**\n",
        "Permite que uma classe herde atributos e métodos de várias classes base (superclasses).\n",
        "\n",
        "Cuidado: pode levar a complexidade e ambiguidade se não for gerenciada adequadamente.\n"
      ]
    },
    {
      "cell_type": "code",
      "execution_count": 6,
      "metadata": {
        "colab": {
          "base_uri": "https://localhost:8080/"
        },
        "id": "cmbZRSizcnzQ",
        "outputId": "b65f428d-f6fe-43f4-a3e9-08e0c0a2a14c"
      },
      "outputs": [
        {
          "name": "stdout",
          "output_type": "stream",
          "text": [
            "Veículo: Tesla Model 3 | Elétrico: 75 kWh, Autonomia: 500 km\n",
            "O carro elétrico está em movimento silencioso.\n",
            "A bateria de 75 kWh está sendo carregada.\n",
            "A bateria tem 75 kWh de capacidade.\n"
          ]
        }
      ],
      "source": [
        "# Classe base 1\n",
        "class Veiculo:\n",
        "    def __init__(self, marca, modelo):\n",
        "        self.marca = marca\n",
        "        self.modelo = modelo\n",
        "\n",
        "    def descricao(self):\n",
        "        return f\"Veículo: {self.marca} {self.modelo}\"\n",
        "\n",
        "    def dirigir(self):\n",
        "        return \"O veículo está em movimento.\"\n",
        "\n",
        "# Classe base 2\n",
        "class Eletrico:\n",
        "    def __init__(self, capacidade_bateria):\n",
        "        self.capacidade_bateria = capacidade_bateria  # em kWh\n",
        "\n",
        "    def carregar(self):\n",
        "        return f\"A bateria de {self.capacidade_bateria} kWh está sendo carregada.\"\n",
        "\n",
        "    def status_bateria(self):\n",
        "        return f\"A bateria tem {self.capacidade_bateria} kWh de capacidade.\"\n",
        "\n",
        "# Classe derivada: herança múltipla\n",
        "class CarroEletrico(Veiculo, Eletrico):\n",
        "    def __init__(self, marca, modelo, capacidade_bateria, autonomia):\n",
        "        # Inicializa atributos de ambas as classes base\n",
        "        Veiculo.__init__(self, marca, modelo)\n",
        "        Eletrico.__init__(self, capacidade_bateria)\n",
        "        self.autonomia = autonomia  # em km\n",
        "raio\n",
        "    def descricao_completa(self):\n",
        "        return (f\"{self.descricao()} | Elétrico: {self.capacidade_bateria} kWh, \"\n",
        "                f\"Autonomia: {self.autonomia} km\")\n",
        "\n",
        "    def dirigir(self):\n",
        "        return \"O carro elétrico está em movimento silencioso.\"\n",
        "\n",
        "# Caso de uso\n",
        "if __name__ == \"__main__\":\n",
        "    # Criando um carro elétrico\n",
        "    meu_carro = CarroEletrico(\"Tesla\", \"Model 3\", 75, 500)\n",
        "\n",
        "    # Utilizando métodos\n",
        "    print(meu_carro.descricao_completa())  # Descrição completa\n",
        "    print(meu_carro.dirigir())            # Método sobrescrito\n",
        "    print(meu_carro.carregar())           # Método da classe Eletrico\n",
        "    print(meu_carro.status_bateria())     # Método da classe Eletrico\n"
      ]
    },
    {
      "cell_type": "markdown",
      "metadata": {
        "id": "qYEVX3i7ct-c"
      },
      "source": [
        "**Função Super**\n",
        "\n",
        "Usada para acessar métodos ou atributos de uma classe base (superclasse) em uma classe derivada (subclasse).\n",
        "\n",
        "Ferramenta poderosa para facilitar o uso da herança e para criar uma hierarquia de classes flexível e extensível.\n"
      ]
    },
    {
      "cell_type": "code",
      "execution_count": 7,
      "metadata": {
        "colab": {
          "base_uri": "https://localhost:8080/"
        },
        "id": "dToBuWiXcpA6",
        "outputId": "12a6ee50-3b24-49f7-ce3b-8a56843eb2f9"
      },
      "outputs": [
        {
          "name": "stdout",
          "output_type": "stream",
          "text": [
            "Método da ClasseBase\n"
          ]
        }
      ],
      "source": [
        "class ClasseBase:\n",
        "    def metodo(self):\n",
        "        print(\"Método da ClasseBase\")\n",
        "\n",
        "class ClasseDerivada(ClasseBase):\n",
        "    def metodo(self):\n",
        "        super().metodo()  # Chama o método da ClasseBase\n",
        "\n",
        "obj = ClasseDerivada()\n",
        "obj.metodo()\n"
      ]
    },
    {
      "cell_type": "code",
      "execution_count": 8,
      "metadata": {
        "colab": {
          "base_uri": "https://localhost:8080/"
        },
        "id": "ErK5qbI4c_a_",
        "outputId": "1e3c931c-8bc1-4d12-d831-7e8e7a8d83be"
      },
      "outputs": [
        {
          "name": "stdout",
          "output_type": "stream",
          "text": [
            "Rex\n",
            "Labrador\n"
          ]
        }
      ],
      "source": [
        "class Animal:\n",
        "    def __init__(self, nome):\n",
        "        self.nome = nome\n",
        "\n",
        "class Cachorro(Animal):\n",
        "    def __init__(self, nome, raca):\n",
        "        super().__init__(nome)\n",
        "        self.raca = raca\n",
        "\n",
        "rex = Cachorro(\"Rex\", \"Labrador\")\n",
        "print(rex.nome)  # Saída: \"Rex\"\n",
        "print(rex.raca)  # Saída: \"Labrador\"\n"
      ]
    },
    {
      "cell_type": "markdown",
      "metadata": {
        "id": "uurygm1jdIJf"
      },
      "source": [
        "**Exercício**\n",
        "\n",
        "Crie a classe Motor que contém NumCilindro (int) e Potencia (int). Inclua um construtor sem argumentos que inicialize os dados com zeros e um construtor que inicialize os dados com os valores recebidos como argumento.\n",
        "\n",
        "Escreva a classe Veiculo contendo Peso em quilos (int), VelocMax em km/h (int) e Preco em R$ (float). Inclua um construtor sem argumentos que inicialize os dados com zeros e um construtor que inicialize os dados com os valores recebidos como argumento.\n",
        "\n",
        "Crie a classe CarroPasseio usando as classes Motor e Veiculo como base. Inclua Cor (string) e Modelo (string). Inclua um construtor que inicialize os dados com zeros e um construtor que inicialize os dados com os valores recebidos como argumento.\n"
      ]
    },
    {
      "cell_type": "code",
      "execution_count": null,
      "metadata": {
        "id": "XNZT3HL0dPPX"
      },
      "outputs": [],
      "source": [
        "class Motor:\n",
        "\n",
        "    def __init__(self, NumCilindro = 0, Potencia = 0):\n",
        "        self.numCilindro = NumCilindro\n",
        "        self.potencia = Potencia\n",
        "\n",
        "\n",
        "class Veiculo:\n",
        "    \n",
        "    def __init__(self, Peso = 0, VelocMax = 0, Preco = 0.0):\n",
        "        self.peso = Peso\n",
        "        self.velocMax = VelocMax\n",
        "        self.preco = Preco\n",
        "\n",
        "\n",
        "class CarroPasseio(Veiculo,Motor):\n",
        "\n",
        "    def __init__(self, NumCilindro = 0, Potencia = 0, Peso = 0, VelocMax = 0, Preco = 0.0, Cor = \"#000000\", Modelo = \"Nenhum\"):\n",
        "        Motor.__init__(NumCilindro, Potencia)\n",
        "        Veiculo.__init__(Peso, VelocMax, Preco)\n",
        "        self.cor = Cor\n",
        "        self.modelo = Modelo\n",
        "       \n"
      ]
    },
    {
      "cell_type": "markdown",
      "metadata": {
        "id": "upAOxEy3dP6U"
      },
      "source": [
        "**Classes Abstratas**\n",
        "\n",
        "Classes abstratas são classes que não podem ser instanciadas diretamente e são usadas como base para outras classes.\n",
        "Elas geralmente contêm métodos abstratos, que são métodos sem implementação.\n",
        "As subclasses que herdam de classes abstratas devem implementar esses métodos abstratos.\n",
        "Em Python não existe uma construção nativa chamada \"interface“.\n"
      ]
    },
    {
      "cell_type": "code",
      "execution_count": 11,
      "metadata": {
        "colab": {
          "base_uri": "https://localhost:8080/"
        },
        "id": "isj-hFkvdnsb",
        "outputId": "caae143b-2b6e-4fec-85f4-b50c61e911be"
      },
      "outputs": [
        {
          "data": {
            "text/plain": [
              "12.56636"
            ]
          },
          "execution_count": 11,
          "metadata": {},
          "output_type": "execute_result"
        }
      ],
      "source": [
        "from abc import ABC, abstractmethod\n",
        "\n",
        "class Forma(ABC):\n",
        "    @abstractmethod\n",
        "    def calcular_area(self):\n",
        "        pass\n",
        "\n",
        "class Quadrado(Forma):\n",
        "    def __init__(self, lado):\n",
        "        self.lado = lado\n",
        "\n",
        "    def calcular_area(self):\n",
        "        return self.lado ** 2\n",
        "\n",
        "class Circulo(Forma):\n",
        "    def __init__(self, raio):\n",
        "        self.raio = raio\n",
        "\n",
        "    def calcular_area(self):\n",
        "        return 3.14159 * self.raio ** 2\n",
        "\n",
        "redondo = Circulo(2)\n",
        "redondo.calcular_area()\n"
      ]
    },
    {
      "cell_type": "markdown",
      "metadata": {
        "id": "FbNay0yKeZrw"
      },
      "source": [
        "**Exercício**\n",
        "\n",
        "Você foi contratado para desenvolver um sistema de controle de pagamento de trabalhadores de uma empresa. Existem dois tipos de trabalhadores na empresa: horistas (que recebem por hora trabalhada) e assalariados (que recebem um salário fixo mensal). Para isso:\n",
        "\n",
        "Crie uma classe abstrata chamada Trabalhador, que terá os seguintes métodos:\n",
        "\n",
        "calcular_pagamento() (abstrato): Este método deve ser implementado nas classes derivadas.\n",
        "descricao() (concreto): Deve exibir o nome do trabalhador e o tipo (horista ou assalariado).\n",
        "Implemente duas classes derivadas de Trabalhador:\n",
        "\n",
        "Horista: Deve calcular o pagamento multiplicando o número de horas trabalhadas pela taxa por hora.\n",
        "Assalariado: Deve retornar o salário fixo como pagamento.\n",
        "No final, crie um programa que demonstre o uso do sistema:\n",
        "\n",
        "Crie uma lista de trabalhadores, incluindo horistas e assalariados.\n",
        "Exiba a descrição e o pagamento de cada trabalhador.\n",
        "\n",
        "O código abaixo possui lacunas para vocês completarem."
      ]
    },
    {
      "cell_type": "code",
      "execution_count": null,
      "metadata": {
        "id": "J0cFLtrwemeB"
      },
      "outputs": [],
      "source": [
        "from abc import ABC, abstractmethod\n",
        "\n",
        "# Classe abstrata\n",
        "class Trabalhador(ABC):\n",
        "    def __init__(self, nome):\n",
        "        self.nome = nome\n",
        "\n",
        "    @abstractmethod\n",
        "    def calcular_pagamento(self):\n",
        "        pass  # Método abstrato\n",
        "\n",
        "    def descricao(self):\n",
        "        return f\"Trabalhador: {self.nome}\"\n",
        "\n",
        "# Classe derivada: Horista\n",
        "class Horista(Trabalhador):\n",
        "    def __init__(self, nome, horas_trabalhadas, taxa_hora):\n",
        "        super().__init__(nome)\n",
        "        self.horas_trabalhadas = horas_trabalhadas\n",
        "        self.taxa_hora = taxa_hora\n",
        "\n",
        "    def calcular_pagamento(self):\n",
        "        # Alunos devem completar\n",
        "        pass\n",
        "\n",
        "# Classe derivada: Assalariado\n",
        "class Assalariado(Trabalhador):\n",
        "    def __init__(self, nome, salario_fixo):\n",
        "        super().__init__(nome)\n",
        "        self.salario_fixo = salario_fixo\n",
        "\n",
        "    def calcular_pagamento(self):\n",
        "        # Alunos devem completar\n",
        "        pass\n",
        "\n",
        "# Programa principal\n",
        "if __name__ == \"__main__\":\n",
        "    trabalhadores = [\n",
        "        Horista(\"João\", 40, 25),\n",
        "        Assalariado(\"Maria\", 3000),\n",
        "        Horista(\"Carlos\", 35, 20)\n",
        "    ]\n",
        "\n",
        "    for trabalhador in trabalhadores:\n",
        "        print(trabalhador.descricao())\n",
        "        print(f\"Pagamento: R${trabalhador.calcular_pagamento():.2f}\")\n",
        "        print(\"-\" * 30)\n"
      ]
    },
    {
      "cell_type": "markdown",
      "metadata": {
        "id": "oQFnuNBEet6J"
      },
      "source": [
        "**Sobrecarga de Operadores**\n",
        "\n",
        "A sobrecarga de operadores em Python refere-se à capacidade de definir o comportamento personalizado de operadores (como +, -, *, /, etc.) para objetos de uma classe personalizada.\n",
        "Em Python, a sobrecarga de operadores é realizada por meio da implementação de métodos especiais, também conhecidos como \"métodos mágicos\" ou \"dunder methods\" (devido ao uso de duplo sublinhado no início e no final dos nomes dos métodos).\n",
        "Cada operador tem um método especial correspondente que você pode definir em sua classe.\n"
      ]
    },
    {
      "cell_type": "code",
      "execution_count": 13,
      "metadata": {
        "colab": {
          "base_uri": "https://localhost:8080/"
        },
        "id": "j1CE4zfke2Xo",
        "outputId": "ccb40979-e220-4f8a-ed8d-1d290a3071f8"
      },
      "outputs": [
        {
          "name": "stdout",
          "output_type": "stream",
          "text": [
            "4 + 9i\n"
          ]
        }
      ],
      "source": [
        "class NumeroComplexo:\n",
        "    def __init__(self, real, imaginario):\n",
        "        self.real = real\n",
        "        self.imaginario = imaginario\n",
        "\n",
        "    def __add__(self, outro):\n",
        "        soma_real = self.real + outro.real\n",
        "        soma_imaginaria = self.imaginario + outro.imaginario\n",
        "        return NumeroComplexo(soma_real, soma_imaginaria)\n",
        "    def __str__(self):\n",
        "        return f\"{self.real} + {self.imaginario}i\"\n",
        "\n",
        "# Criando objetos de número complexo\n",
        "a = NumeroComplexo(3, 2)\n",
        "b = NumeroComplexo(1, 7)\n",
        "\n",
        "# Usando o operador de adição sobrecarregado\n",
        "resultado = a + b\n",
        "\n",
        "print(resultado)  # Saída: 4 + 9i\n"
      ]
    },
    {
      "cell_type": "markdown",
      "metadata": {
        "id": "DIM8v_wsfM-W"
      },
      "source": [
        "**Exercício**\n",
        "\n",
        "Você está desenvolvendo um sistema para manipular pontos no plano cartesiano. Para facilitar cálculos, o sistema deve permitir realizar operações matemáticas entre dois pontos ou um ponto e um número, utilizando operadores matemáticos.\n",
        "\n",
        "Crie uma classe Ponto que represente um ponto no plano, com os seguintes atributos:\n",
        "\n",
        "x (coordenada horizontal).\n",
        "y (coordenada vertical).\n",
        "Sobrecargue os operadores:\n",
        "\n",
        "+: Para somar dois pontos (soma das coordenadas correspondentes) ou um ponto e um número (adicionado a ambas as coordenadas).\n",
        "\n",
        "-: Para subtrair dois pontos ou subtrair um número de ambas as coordenadas do ponto.\n",
        "\n",
        "==: Para verificar se dois pontos têm as mesmas coordenadas.\n",
        "Adicione um método __str__ para retornar a representação do ponto no formato (x, y).\n",
        "\n",
        "No programa principal, instancie alguns objetos da classe Ponto e realize operações com eles usando os operadores sobrecarregados.\n",
        "\n",
        "Segue o código para completar."
      ]
    },
    {
      "cell_type": "code",
      "execution_count": null,
      "metadata": {
        "id": "BKEZd5DBfVYz"
      },
      "outputs": [],
      "source": [
        "class Ponto:\n",
        "    def __init__(self, x, y):\n",
        "        self.x = x\n",
        "        self.y = y\n",
        "\n",
        "    # Sobrecarga do operador +\n",
        "    def __add__(self, outro):\n",
        "        if isinstance(outro, Ponto):\n",
        "            # Alunos devem completar\n",
        "            pass\n",
        "        elif isinstance(outro, (int, float)):\n",
        "            # Alunos devem completar\n",
        "            pass\n",
        "        else:\n",
        "            return NotImplemented\n",
        "\n",
        "    # Sobrecarga do operador -\n",
        "    def __sub__(self, outro):\n",
        "        if isinstance(outro, Ponto):\n",
        "            # Alunos devem completar\n",
        "            pass\n",
        "        elif isinstance(outro, (int, float)):\n",
        "            # Alunos devem completar\n",
        "            pass\n",
        "        else:\n",
        "            return NotImplemented\n",
        "\n",
        "    # Sobrecarga do operador ==\n",
        "    def __eq__(self, outro):\n",
        "        # Alunos devem completar\n",
        "        pass\n",
        "\n",
        "    # Representação como string\n",
        "    def __str__(self):\n",
        "        return f\"({self.x}, {self.y})\"\n",
        "\n",
        "# Programa principal\n",
        "if __name__ == \"__main__\":\n",
        "    p1 = Ponto(2, 3)\n",
        "    p2 = Ponto(4, 5)\n",
        "    p3 = Ponto(2, 3)\n",
        "\n",
        "    # Soma de dois pontos\n",
        "    print(p1 + p2)  # Deve imprimir (6, 8)\n",
        "\n",
        "    # Soma de um ponto com um número\n",
        "    print(p1 + 10)  # Deve imprimir (12, 13)\n",
        "\n",
        "    # Subtração de dois pontos\n",
        "    print(p2 - p1)  # Deve imprimir (2, 2)\n",
        "\n",
        "    # Subtração de um ponto com um número\n",
        "    print(p1 - 1)  # Deve imprimir (1, 2)\n",
        "\n",
        "    # Comparação de igualdade\n",
        "    print(p1 == p3)  # Deve imprimir True\n",
        "    print(p1 == p2)  # Deve imprimir False\n"
      ]
    },
    {
      "cell_type": "markdown",
      "metadata": {
        "id": "_MOwzTj3fevP"
      },
      "source": [
        "**Sobrecarga de Métodos em Python - Funções Flexíveis**\n",
        "\n",
        "Diferentemente de algumas linguagens de programação, como C++ ou Java, Python não suporta a sobrecarga de métodos com base em assinaturas diferentes (ou seja, com diferentes tipos de parâmetros).\n",
        "\n",
        "No Python, a última definição de um método em uma classe substituirá todas as definições anteriores com o mesmo nome, independentemente dos tipos ou números de argumentos.\n",
        "\n",
        "*args e **kwargs são recursos em Python que permitem criar funções flexíveis que aceitam um número variável de argumentos.\n",
        "\n",
        "No entanto, eles têm propósitos diferentes e funcionam de maneiras ligeiramente distintas.\n"
      ]
    },
    {
      "cell_type": "code",
      "execution_count": 14,
      "metadata": {
        "colab": {
          "base_uri": "https://localhost:8080/"
        },
        "id": "uHbK-xaLfxZP",
        "outputId": "6df0d245-59dd-4a8e-db3a-d0e5e6aae82c"
      },
      "outputs": [
        {
          "name": "stdout",
          "output_type": "stream",
          "text": [
            "6\n",
            "15\n"
          ]
        }
      ],
      "source": [
        "class MinhaClasse:\n",
        "    def metodo(self, *args):\n",
        "        total = 0\n",
        "        for num in args:\n",
        "            total += num\n",
        "        return total\n",
        "\n",
        "obj = MinhaClasse()\n",
        "print(obj.metodo(1, 2, 3))          # Saída: 6\n",
        "print(obj.metodo(1, 2, 3, 4, 5))    # Saída: 15\n"
      ]
    },
    {
      "cell_type": "code",
      "execution_count": 15,
      "metadata": {
        "colab": {
          "base_uri": "https://localhost:8080/"
        },
        "id": "FUt7QctIf8SH",
        "outputId": "39884d7c-a04a-4e8d-e775-3925e7839b48"
      },
      "outputs": [
        {
          "name": "stdout",
          "output_type": "stream",
          "text": [
            "nome: Alice\n",
            "idade: 30\n"
          ]
        }
      ],
      "source": [
        "def minha_funcao(**kwargs):\n",
        "    for chave, valor in kwargs.items():\n",
        "        print(f\"{chave}: {valor}\")\n",
        "\n",
        "minha_funcao(nome=\"Alice\", idade=30)  # Saída: nome: Alice, idade: 30\n"
      ]
    },
    {
      "cell_type": "code",
      "execution_count": null,
      "metadata": {
        "id": "-RJHYKDbf9QD"
      },
      "outputs": [],
      "source": []
    },
    {
      "cell_type": "markdown",
      "metadata": {
        "id": "R4rMUo4bgAH0"
      },
      "source": [
        "**Exercício**\n",
        "\n",
        "Crie uma função chamada calcula_media que aceita um número arbitrário de argumentos posicionais (*args) representando notas e calcula a média dessas notas. A função deve retornar a média.\n",
        "\n",
        "Crie uma função chamada info_livro que aceita argumentos nomeados (**kwargs) para o título, autor e ano de publicação de um livro. A função deve imprimir as informações do livro de maneira formatada.\n"
      ]
    },
    {
      "cell_type": "code",
      "execution_count": null,
      "metadata": {
        "id": "8xIoBstjgHkw"
      },
      "outputs": [],
      "source": []
    },
    {
      "cell_type": "markdown",
      "metadata": {
        "id": "-mByOeCNgM6h"
      },
      "source": [
        "**Exercício**\n",
        "\n",
        "Crie uma classe base chamada Veiculo que tenha um método chamado acelerar() que imprime \"Veículo acelerando\". Em seguida, crie duas subclasses, Carro e Moto, que herdem da classe Veiculo. Cada uma dessas subclasses deve substituir o método acelerar() com sua própria implementação específica (“Carro Acelerando” e “Moto Acelerando”).\n",
        "\n",
        "Depois, instancie um objeto para cada classe e teste o método acelerar de cada classe.\n"
      ]
    },
    {
      "cell_type": "code",
      "execution_count": null,
      "metadata": {
        "id": "zjCStFthgS6O"
      },
      "outputs": [],
      "source": []
    },
    {
      "cell_type": "markdown",
      "metadata": {
        "id": "8lp3hKCTgeG0"
      },
      "source": [
        "**Mixins**\n",
        "\n",
        "Em linguagens de programação orientadas a objetos, um mixin (ou mix-in) é uma classe que contém métodos para uso por outras classes sem ter que ser a classe pai dessas outras classes.\n",
        "\n",
        "Como essas outras classes ganham acesso aos métodos do mixin depende da linguagem.\n",
        "\n",
        "Mixins são algumas vezes descritos como sendo \"incluídos\" em vez de \"herdados\".\n",
        "\n",
        "**Problema do Diamante**\n",
        "\n",
        "Mixins encorajam a reutilização de código e podem ser usados ​​para evitar a ambiguidade de herança que a herança múltipla pode causar (o \"problema do diamante\"), ou para contornar a falta de suporte para herança múltipla em uma linguagem.\n",
        "O \"problema do diamante\" é uma ambiguidade que surge quando duas classes B e C herdam de A, e a classe D herda de B e C.\n",
        "Se houver um método em A que B e C substituíram, e D não o substitui, então qual versão do método D herda: a de B ou a de C?\n"
      ]
    },
    {
      "cell_type": "code",
      "execution_count": null,
      "metadata": {
        "colab": {
          "base_uri": "https://localhost:8080/"
        },
        "id": "cu4JFmVuFVPi",
        "outputId": "f4e1930c-f69a-44f3-df2e-f975cb6066e3"
      },
      "outputs": [
        {
          "name": "stdout",
          "output_type": "stream",
          "text": [
            "Olá de B\n"
          ]
        }
      ],
      "source": [
        "class A:\n",
        "    def say_hello(self):\n",
        "        print(\"Olá de A\")\n",
        "\n",
        "class B(A):\n",
        "    def say_hello(self):\n",
        "        print(\"Olá de B\")\n",
        "\n",
        "class C(A):\n",
        "    def say_hello(self):\n",
        "        print(\"Olá de C\")\n",
        "\n",
        "# Classe D herda de B e C, que herdam de A\n",
        "class D(B, C):\n",
        "    pass\n",
        "\n",
        "# Testando a classe D\n",
        "d = D()\n",
        "d.say_hello()\n"
      ]
    },
    {
      "cell_type": "code",
      "execution_count": null,
      "metadata": {
        "colab": {
          "base_uri": "https://localhost:8080/"
        },
        "id": "DIUM6Eu8Kum8",
        "outputId": "dad6f313-6a0a-4db8-9ef8-97c432b0d2ad"
      },
      "outputs": [
        {
          "name": "stdout",
          "output_type": "stream",
          "text": [
            "(<class '__main__.D'>, <class '__main__.B'>, <class '__main__.C'>, <class '__main__.A'>, <class 'object'>)\n"
          ]
        }
      ],
      "source": [
        "print(D.__mro__)\n"
      ]
    },
    {
      "cell_type": "code",
      "execution_count": null,
      "metadata": {
        "colab": {
          "base_uri": "https://localhost:8080/"
        },
        "id": "NaBXBZlkLF9E",
        "outputId": "58e65b79-2d5e-42a8-899e-22fb3daba5e4"
      },
      "outputs": [
        {
          "name": "stdout",
          "output_type": "stream",
          "text": [
            "Olá de A\n",
            "Olá de C\n",
            "Olá de B\n",
            "Olá de D\n"
          ]
        }
      ],
      "source": [
        "class A:\n",
        "    def say_hello(self):\n",
        "        print(\"Olá de A\")\n",
        "\n",
        "class B(A):\n",
        "    def say_hello(self):\n",
        "        super().say_hello()\n",
        "        print(\"Olá de B\")\n",
        "\n",
        "class C(A):\n",
        "    def say_hello(self):\n",
        "        super().say_hello()\n",
        "        print(\"Olá de C\")\n",
        "\n",
        "class D(B, C):\n",
        "    def say_hello(self):\n",
        "        super().say_hello()\n",
        "        print(\"Olá de D\")\n",
        "\n",
        "d = D()\n",
        "d.say_hello()\n"
      ]
    },
    {
      "cell_type": "code",
      "execution_count": null,
      "metadata": {
        "colab": {
          "base_uri": "https://localhost:8080/"
        },
        "id": "ujwZSy2nMte2",
        "outputId": "a9bbf436-6514-4fba-ad0c-0548bdf5c291"
      },
      "outputs": [
        {
          "name": "stdout",
          "output_type": "stream",
          "text": [
            "1984 por George Orwell (1949)\n",
            "Salvando Book no banco de dados...\n",
            "{\"title\": \"1984\", \"author\": \"George Orwell\", \"year\": 1949}\n"
          ]
        }
      ],
      "source": [
        "# Mixin para salvar dados no banco de dados\n",
        "class SaveMixin:\n",
        "    def save_to_db(self):\n",
        "        print(f\"Salvando {self.__class__.__name__} no banco de dados...\")\n",
        "\n",
        "# Mixin para converter dados em JSON\n",
        "class JsonMixin:\n",
        "    def to_json(self):\n",
        "        import json\n",
        "        return json.dumps(self.__dict__)\n",
        "\n",
        "# Classe principal: Livro\n",
        "class Book(SaveMixin, JsonMixin):\n",
        "    def __init__(self, title, author, year):\n",
        "        self.title = title\n",
        "        self.author = author\n",
        "        self.year = year\n",
        "\n",
        "    def __str__(self):\n",
        "        return f\"{self.title} por {self.author} ({self.year})\"\n",
        "\n",
        "# Criando uma instância de Book\n",
        "book = Book(\"1984\", \"George Orwell\", 1949)\n",
        "\n",
        "# Usando as funcionalidades do mixin\n",
        "print(book)                     # Exibe informações do livro\n",
        "book.save_to_db()               # Função do SaveMixin\n",
        "print(book.to_json())           # Função do JsonMixin\n"
      ]
    },
    {
      "cell_type": "markdown",
      "metadata": {
        "id": "-C2_3NREhbbr"
      },
      "source": [
        "**Exercício**\n",
        "\n",
        "Crie uma classe base chamada User que contenha os atributos name e email.\n",
        "Implemente os seguintes mixins:\n",
        "\n",
        "LoginMixin: Adicione um método login() que simula o login do usuário exibindo a mensagem \"{name} realizou login com sucesso!\".\n",
        "\n",
        "JsonMixin: Adicione um método to_json() que exporta os atributos do usuário em formato JSON.\n",
        "\n",
        "ActivityMixin: Adicione um método log_activity(action) que registra as ações realizadas pelo usuário (use uma lista para armazenar as ações).\n",
        "\n",
        "Crie uma classe AdminUser que herde da classe User e dos mixins implementados.\n",
        "\n",
        "Crie uma instância de AdminUser, realize login, exporte seus dados em JSON e registre as atividades.\n",
        "\n",
        "Resultado Esperado:\n",
        "\n",
        "O programa deve realizar as seguintes ações:\n",
        "\n",
        "Criar um usuário administrador.\n",
        "\n",
        "Fazer login no sistema.\n",
        "\n",
        "Exportar os dados do usuário em JSON.\n",
        "\n",
        "Exibir todas as ações registradas.\n",
        "\n",
        "\n",
        "Saída Esperada:\n",
        "\n",
        "Se implementado corretamente, a execução do programa pode gerar a seguinte saída:\n",
        "\n",
        "João realizou login com sucesso!\n",
        "Dados do usuário em JSON: {\"name\": \"João\", \"email\": \"joao@example.com\"}\n",
        "\n",
        "Atividades registradas: ['Login realizado', 'Exportação de dados para JSON']\n",
        "\n",
        "Use o código abaixo para começar.\n",
        "\n",
        "Desafio: Adicione um mixin adicional chamado ValidationMixin que verifica se o e-mail do usuário é válido (se contém o símbolo @). Faça com que a validação seja executada automaticamente ao criar um novo usuário.\n"
      ]
    },
    {
      "cell_type": "code",
      "execution_count": null,
      "metadata": {
        "id": "FPsR2z-PhtPa"
      },
      "outputs": [],
      "source": [
        "import json\n",
        "\n",
        "# Classe base\n",
        "class User:\n",
        "    def __init__(self, name, email):\n",
        "        self.name = name\n",
        "        self.email = email\n"
      ]
    }
  ],
  "metadata": {
    "colab": {
      "provenance": []
    },
    "kernelspec": {
      "display_name": "Python 3",
      "name": "python3"
    },
    "language_info": {
      "codemirror_mode": {
        "name": "ipython",
        "version": 3
      },
      "file_extension": ".py",
      "mimetype": "text/x-python",
      "name": "python",
      "nbconvert_exporter": "python",
      "pygments_lexer": "ipython3",
      "version": "3.10.12"
    }
  },
  "nbformat": 4,
  "nbformat_minor": 0
}
